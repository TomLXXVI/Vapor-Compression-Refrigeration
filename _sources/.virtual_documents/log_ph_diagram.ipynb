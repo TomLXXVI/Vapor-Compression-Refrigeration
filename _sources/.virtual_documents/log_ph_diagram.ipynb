from deps import load_packages
load_packages()

import warnings
warnings.filterwarnings('ignore', category=UserWarning)

# make diagrams interactive
# %matplotlib widget


from hvac import Quantity
from hvac.fluids import Fluid
from hvac.charts import StandardVaporCompressionCycle, LogPhDiagram


Q_ = Quantity


R410A = Fluid('R410A')


R410A_diagram1 = LogPhDiagram(R410A, size=(8, 6), dpi=96)

# hide the header and footer of the figure
R410A_diagram1.figure.canvas.header_visible = False
R410A_diagram1.figure.canvas.footer_visible = False

R410A_diagram1.show()


cycle_R410A_1 = StandardVaporCompressionCycle(
    Refrigerant=R410A,
    evaporationTemperature=Q_(5, 'degC'),
    condensationTemperature=Q_(50, 'degC'),
    evaporatorSuperheat=Q_(10, 'K'),
    subCooling=Q_(10, 'K'),
    suctionLineSuperheat=None,
    isentropicEfficiency=Q_(73.88, 'pct')
)


R410A_diagram2 = LogPhDiagram(R410A, size=(8, 6), dpi=96)
R410A_diagram2.setCycle(cycle_R410A_1)
R410A_diagram2.show()



