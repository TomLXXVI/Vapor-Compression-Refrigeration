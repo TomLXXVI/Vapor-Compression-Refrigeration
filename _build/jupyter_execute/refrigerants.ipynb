{
 "cells": [
  {
   "cell_type": "markdown",
   "id": "2f9c32b1-cc1d-419e-9f02-b655df89c227",
   "metadata": {},
   "source": [
    "# Using Refrigerants\n",
    "---"
   ]
  },
  {
   "cell_type": "markdown",
   "id": "1dc43534-80b1-425e-b149-02954a32687d",
   "metadata": {},
   "source": [
    "The `Fluid` class, contained inside the package `hvac.fluids`, provides a thin wrapper around the third-party library **[CoolProp](http://www.coolprop.org/)**, which gives you access to thermodynamic properties of many fluids. The list of available fluids can be found in CoolProp's documentation. The `Fluid` class has also been developed to allow direct use of physical quantities. The use of physical quantities is based on another third-party package **[Pint](https://pint.readthedocs.io/en/stable/)**. To use physical quantities in a notebook or script we need to import the `Quantity` class from the main package `hvac`."
   ]
  },
  {
   "cell_type": "code",
   "execution_count": 1,
   "id": "a776a303-5663-4d11-8e49-d9c8c9b67a70",
   "metadata": {
    "jupyter": {
     "source_hidden": true
    },
    "tags": [
     "remove-input"
    ]
   },
   "outputs": [],
   "source": [
    "from deps import load_packages\n",
    "\n",
    "load_packages()\n",
    "\n",
    "from hvac.fluids import fluid_logger\n",
    "import logging\n",
    "fluid_logger.setLevel(logging.ERROR)"
   ]
  },
  {
   "cell_type": "code",
   "execution_count": 2,
   "id": "4bc0dd4d-055e-43e1-b60c-79c99275909b",
   "metadata": {},
   "outputs": [],
   "source": [
    "from hvac import Quantity\n",
    "from hvac.fluids import Fluid"
   ]
  },
  {
   "cell_type": "markdown",
   "id": "61b866b3-2d67-47ce-9c42-5b8d6f747bc0",
   "metadata": {},
   "source": [
    "As a shortcut we also define an alias for `Quantity`:"
   ]
  },
  {
   "cell_type": "code",
   "execution_count": 3,
   "id": "a6af461d-3a77-4e7e-bedb-90edcd77400a",
   "metadata": {},
   "outputs": [],
   "source": [
    "Q_ = Quantity"
   ]
  },
  {
   "cell_type": "markdown",
   "id": "7981e9a2-defb-46d4-b5a4-bd5ccae4e7c5",
   "metadata": {},
   "source": [
    "In this notebook it will be demonstrated how to use the `Fluid` class to define a specific refrigerant, how to set the state of this refrigerant, and how to get the quantity of other state properties after the state of the refrigerant has been determined."
   ]
  },
  {
   "cell_type": "markdown",
   "id": "c28b4c6d-56dd-48cd-bded-a84acfbc5aae",
   "metadata": {},
   "source": [
    "As an example, the refrigerant R134A will be defined. To do that, we need to create an instance of the `Fluid` class with the name of the refrigerant as known by CoolProp inside a string:"
   ]
  },
  {
   "cell_type": "code",
   "execution_count": 4,
   "id": "3ba8375e-2771-45aa-8ac3-9689d59f5889",
   "metadata": {},
   "outputs": [],
   "source": [
    "R134A = Fluid('R134A')"
   ]
  },
  {
   "cell_type": "markdown",
   "id": "5e367efb-14ae-49ef-8cc3-d26d9462e1a5",
   "metadata": {},
   "source": [
    "That is what is minimal required in order to define a specific fluid. \n",
    "\n",
    "CoolProp has a number of backends that can be used to determine the thermodynamic properties of a fluid. The default backend is `HEOS`. You can check CoolProp's documentation about the other backends, but mostly `HEOS` will suffice.\n",
    "\n",
    "Not all existing fluids are available in CoolProp. However, it is possible to create a mixture of fluids that are known by CoolProp. To specify a mixture the name of its constituents are written side by side separated by an ampersand (&). In addition to the names of the constituents, the mass fraction of each of the constituents needs to be passed to the `Fluid` constructor. This is done with a `list` in which the order of the mass fractions must correspond with the order of the constituent names in the specification of the mixture. An example of a mixture will follow later on in this notebook.\n",
    "\n",
    "Enthalpy and entropy are relative properties. Their magnitude is measured relative to a certain reference state. A number of reference states have been defined in international standards. CoolProp knows about the following standards: `NBP` (Normal Boiling Point), `ASHRAE` (the ASHRAE standard reference), or `IIR` (the standard reference of the International Institute of Refrigeration). The default value for the reference state is set to `DEF`, which means that CoolProp will use the default reference state for the fluid."
   ]
  },
  {
   "cell_type": "markdown",
   "id": "322efc2c-5e26-46fd-8d05-2a6052e1fe13",
   "metadata": {},
   "source": [
    "Now that we have defined our refrigerant R134A, we can specify its state by giving two of its state properties. The following state properties are defined within the `Fluid` class:\n",
    "\n",
    "| **property** | **keyword** |\n",
    "| ------------ | ----------- |\n",
    "| temperature | `T` |\n",
    "| pressure | `P` |\n",
    "| mass density | `rho` |\n",
    "| specific enthalpy | `h` |\n",
    "| specific entropy | `s` |\n",
    "| specific heat at constant pressure | `cp` |\n",
    "| specific heat at constant volume | `cv` |\n",
    "| vapor quality | `x` |\n",
    "| thermal conductivity | `k` |\n",
    "| dynamic viscosity | `mu` |"
   ]
  },
  {
   "cell_type": "markdown",
   "id": "4fcd76ac-3432-429a-b842-20acf20ffd04",
   "metadata": {},
   "source": [
    "Let's consider refrigerant R134A at a temperature of 0°C while it is a saturated liquid, meaning that the vapor quality is zero. To set this state, we write:"
   ]
  },
  {
   "cell_type": "code",
   "execution_count": 5,
   "id": "93d97f4c-8ed1-49dd-ac94-8bf93d97081c",
   "metadata": {},
   "outputs": [],
   "source": [
    "R134A_sl = R134A(T=Q_(0, 'degC'), x=Q_(0, 'frac'))"
   ]
  },
  {
   "cell_type": "markdown",
   "id": "0e82593a-4a9b-4a44-a109-b1511ac506cd",
   "metadata": {},
   "source": [
    "The vapor quality `x` is expressed as a fraction. We could equally well express it as a percentage ('pct')."
   ]
  },
  {
   "cell_type": "markdown",
   "id": "8b890c12-cc0c-4080-863e-61144176f91f",
   "metadata": {},
   "source": [
    "Now that the state of the refrigerant has been specified, we can for example get the mass density and specific enthalpy at this state by writing:"
   ]
  },
  {
   "cell_type": "code",
   "execution_count": 6,
   "id": "a5912f52-6465-447c-be91-9ec1fdeaadd0",
   "metadata": {},
   "outputs": [
    {
     "name": "stdout",
     "output_type": "stream",
     "text": [
      "mass density = 1294.7770206645357 kilogram / meter ** 3\n",
      "enthalpy = 199999.98852614488 joule / kilogram\n"
     ]
    }
   ],
   "source": [
    "print(\n",
    "    f\"mass density = {R134A_sl.rho}\\n\"\n",
    "    f\"enthalpy = {R134A_sl.h}\"\n",
    ")"
   ]
  },
  {
   "cell_type": "markdown",
   "id": "75a8531d-596b-4390-9a1e-e4a16c922d3c",
   "metadata": {},
   "source": [
    "We can easily convert between units. Frequently enthalpy will be expressed in units of kJ/kg rather than J/kg. We can also format how quantities will be displayed. To demonstrate, let us express enthalpy in units of kJ/kg and rounded to 3 digits behind the decimal point:"
   ]
  },
  {
   "cell_type": "code",
   "execution_count": 7,
   "id": "48e911a7-6e58-4900-bed9-5420a8d26d0c",
   "metadata": {},
   "outputs": [
    {
     "name": "stdout",
     "output_type": "stream",
     "text": [
      "enthalpy: 200.000 kJ/kg\n"
     ]
    }
   ],
   "source": [
    "print(f\"enthalpy: {R134A_sl.h.to('kJ/kg'):~P.3f}\")"
   ]
  },
  {
   "cell_type": "markdown",
   "id": "508800fe-e3f7-468e-8ceb-c4eadda7f644",
   "metadata": {},
   "source": [
    "The format specifier `~P` comes from Pint. It indicates that units have to be displayed in their prettyfied, abbreviated notation. The format specifier `.3f`, which is standard Python, denotes that the value has to be displayed as a ordinary decimal number rounded to 3 decimal digits."
   ]
  },
  {
   "cell_type": "markdown",
   "id": "32de6345-f150-4957-a9ba-bb3c6f965ca3",
   "metadata": {},
   "source": [
    "## Mixture of Refrigerants"
   ]
  },
  {
   "cell_type": "markdown",
   "id": "015de86a-9c16-4db4-8006-e485cca5dddf",
   "metadata": {},
   "source": [
    "As already mentioned above, not all fluids are known by CoolProp. One example is refrigerant R454B. It is a blend of 68.9 w-% R32 and 31.1 w-% R1234yf. Both of these constituents are known by CoolProp. Then to define refrigerant R454B we need to write:"
   ]
  },
  {
   "cell_type": "code",
   "execution_count": 8,
   "id": "70e8f06e-8fcf-4c7d-9075-832d4ac29eaf",
   "metadata": {},
   "outputs": [],
   "source": [
    "R454B = Fluid('R32&R1234yf', mass_fractions=[Q_(68.9, 'pct'), Q_(31.1, 'pct')])"
   ]
  },
  {
   "cell_type": "markdown",
   "id": "aba211c1-be8b-4f94-8f3d-ce248ce4ed5f",
   "metadata": {},
   "source": [
    "When specifying the state of a refrigerant mixture, there is however a restriction on the kind of state properties that can be set. Only the following three combinations can be used with CoolProp:\n",
    "- pressure `P` and quality `x`\n",
    "- temperature `T` and quality `x`\n",
    "- pressure `P` and temperature `T`"
   ]
  },
  {
   "cell_type": "markdown",
   "id": "a74c7ad5-613b-414a-be5a-62b659db3842",
   "metadata": {},
   "source": [
    "Therefore, a small workaround has been implemented inside class `Fluid` that allows to get the refrigerant's state for other, however not all possible combinations. One of the state properties must be pressure, temperature, or quality. The second state property can be any valid state property. Furthermore, we must also guess a value for a third state property, which must be pressure, temperature, or quality again, but of course, cannot be the same \n",
    "as for the first property. Through iteration the value of the third state property will be searched for, such that the value given to the second state property is fulfilled. An example will clarify how it works: Assume that at the condenser outlet the pressure of the subcooled liquid refrigerant equals 25.71 bar and its temperature is 35 °C. The evaporation temperature is given as -10 °C. We are asked to find the refrigerant's vapor quality at the inlet of the evaporator."
   ]
  },
  {
   "cell_type": "code",
   "execution_count": 9,
   "id": "05496729-03f5-45c9-84ed-07a9d3223161",
   "metadata": {},
   "outputs": [
    {
     "name": "stdout",
     "output_type": "stream",
     "text": [
      "27.928913588397048 percent\n"
     ]
    }
   ],
   "source": [
    "condenser_out = R454B(P=Q_(25.71, 'bar'), T=Q_(35.0, 'degC'))\n",
    "\n",
    "# evaporator_in = R454B(T=Q_(-10, 'degC'), h=condenser_out.h) --> this would raise an exception\n",
    "\n",
    "evaporator_in = R454B(T=Q_(-10, 'degC'), h=condenser_out.h, x=Q_(0, 'frac'))\n",
    "\n",
    "print(evaporator_in.x.to('pct'))"
   ]
  },
  {
   "cell_type": "code",
   "execution_count": null,
   "id": "26ab3978-92b6-40ea-9a2d-cf28849b22c9",
   "metadata": {},
   "outputs": [],
   "source": []
  }
 ],
 "metadata": {
  "kernelspec": {
   "display_name": "Python 3 (ipykernel)",
   "language": "python",
   "name": "python3"
  },
  "language_info": {
   "codemirror_mode": {
    "name": "ipython",
    "version": 3
   },
   "file_extension": ".py",
   "mimetype": "text/x-python",
   "name": "python",
   "nbconvert_exporter": "python",
   "pygments_lexer": "ipython3",
   "version": "3.10.4"
  }
 },
 "nbformat": 4,
 "nbformat_minor": 5
}