from deps import load_packages

load_packages()

from hvac.fluids import fluid_logger
import logging
fluid_logger.setLevel(logging.ERROR)


from hvac import Quantity
from hvac.fluids import Fluid


Q_ = Quantity


R134A = Fluid('R134A')


R134A_sl = R134A(T=Q_(0, 'degC'), x=Q_(0, 'frac'))


print(
    f"mass density = {R134A_sl.rho}\n"
    f"enthalpy = {R134A_sl.h}"
)


print(f"enthalpy: {R134A_sl.h.to('kJ/kg'):~P.3f}")


R454B = Fluid('R32&R1234yf', mass_fractions=[Q_(68.9, 'pct'), Q_(31.1, 'pct')])


condenser_out = R454B(P=Q_(25.71, 'bar'), T=Q_(35.0, 'degC'))

# evaporator_in = R454B(T=Q_(-10, 'degC'), h=condenser_out.h) --> this would raise an exception

evaporator_in = R454B(T=Q_(-10, 'degC'), h=condenser_out.h, x=Q_(0, 'frac'))

print(evaporator_in.x.to('pct'))



